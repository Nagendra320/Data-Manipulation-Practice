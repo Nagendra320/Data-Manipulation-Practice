{
 "cells": [
  {
   "cell_type": "code",
   "execution_count": 3,
   "metadata": {},
   "outputs": [],
   "source": [
    "import numpy as np\n",
    "import pandas as pd"
   ]
  },
  {
   "cell_type": "markdown",
   "metadata": {},
   "source": [
    "**1. Student Performance Analysis**\n",
    "\n",
    "**Sample DataFrame**:\n",
    "\n",
    "```python\n",
    "students_df = pd.DataFrame({\n",
    "    'Student_ID': list(range(1, 11)),\n",
    "    'Name': ['Alice', 'Bob', 'Charlie', 'David', 'Eve', 'Frank', 'Grace', 'Hannah', 'Isaac', 'Jack'],\n",
    "    'Math_Score': [82, 95, 88, 65, 78, 90, 55, 92, 87, 79],\n",
    "    'English_Score': [85, 89, 78, 70, 92, 75, 88, 95, 80, 85],\n",
    "    'History_Score': [90, 87, 82, 68, 95, 78, 88, 85, 76, 79]\n",
    "})\n",
    "```\n",
    "\n",
    "**Given Query**: \n",
    "\"Identify the students who have scored above the average in all subjects. Also, determine the subject in which the highest aggregate score was achieved across all students.\""
   ]
  },
  {
   "cell_type": "code",
   "execution_count": 4,
   "metadata": {},
   "outputs": [],
   "source": [
    "students_df = pd.DataFrame({\n",
    "    'Student_ID': list(range(1, 11)),\n",
    "    'Name': ['Alice', 'Bob', 'Charlie', 'David', 'Eve', 'Frank', 'Grace', 'Hannah', 'Isaac', 'Jack'],\n",
    "    'Math_Score': [82, 95, 88, 65, 78, 90, 55, 92, 87, 79],\n",
    "    'English_Score': [85, 89, 78, 70, 92, 75, 88, 95, 80, 85],\n",
    "    'History_Score': [90, 87, 82, 68, 95, 78, 88, 85, 76, 79]\n",
    "})"
   ]
  },
  {
   "cell_type": "code",
   "execution_count": 5,
   "metadata": {},
   "outputs": [
    {
     "data": {
      "text/html": [
       "<div>\n",
       "<style scoped>\n",
       "    .dataframe tbody tr th:only-of-type {\n",
       "        vertical-align: middle;\n",
       "    }\n",
       "\n",
       "    .dataframe tbody tr th {\n",
       "        vertical-align: top;\n",
       "    }\n",
       "\n",
       "    .dataframe thead th {\n",
       "        text-align: right;\n",
       "    }\n",
       "</style>\n",
       "<table border=\"1\" class=\"dataframe\">\n",
       "  <thead>\n",
       "    <tr style=\"text-align: right;\">\n",
       "      <th></th>\n",
       "      <th>Student_ID</th>\n",
       "      <th>Name</th>\n",
       "      <th>Math_Score</th>\n",
       "      <th>English_Score</th>\n",
       "      <th>History_Score</th>\n",
       "    </tr>\n",
       "  </thead>\n",
       "  <tbody>\n",
       "    <tr>\n",
       "      <th>0</th>\n",
       "      <td>1</td>\n",
       "      <td>Alice</td>\n",
       "      <td>82</td>\n",
       "      <td>85</td>\n",
       "      <td>90</td>\n",
       "    </tr>\n",
       "    <tr>\n",
       "      <th>1</th>\n",
       "      <td>2</td>\n",
       "      <td>Bob</td>\n",
       "      <td>95</td>\n",
       "      <td>89</td>\n",
       "      <td>87</td>\n",
       "    </tr>\n",
       "    <tr>\n",
       "      <th>2</th>\n",
       "      <td>3</td>\n",
       "      <td>Charlie</td>\n",
       "      <td>88</td>\n",
       "      <td>78</td>\n",
       "      <td>82</td>\n",
       "    </tr>\n",
       "    <tr>\n",
       "      <th>3</th>\n",
       "      <td>4</td>\n",
       "      <td>David</td>\n",
       "      <td>65</td>\n",
       "      <td>70</td>\n",
       "      <td>68</td>\n",
       "    </tr>\n",
       "    <tr>\n",
       "      <th>4</th>\n",
       "      <td>5</td>\n",
       "      <td>Eve</td>\n",
       "      <td>78</td>\n",
       "      <td>92</td>\n",
       "      <td>95</td>\n",
       "    </tr>\n",
       "    <tr>\n",
       "      <th>5</th>\n",
       "      <td>6</td>\n",
       "      <td>Frank</td>\n",
       "      <td>90</td>\n",
       "      <td>75</td>\n",
       "      <td>78</td>\n",
       "    </tr>\n",
       "    <tr>\n",
       "      <th>6</th>\n",
       "      <td>7</td>\n",
       "      <td>Grace</td>\n",
       "      <td>55</td>\n",
       "      <td>88</td>\n",
       "      <td>88</td>\n",
       "    </tr>\n",
       "    <tr>\n",
       "      <th>7</th>\n",
       "      <td>8</td>\n",
       "      <td>Hannah</td>\n",
       "      <td>92</td>\n",
       "      <td>95</td>\n",
       "      <td>85</td>\n",
       "    </tr>\n",
       "    <tr>\n",
       "      <th>8</th>\n",
       "      <td>9</td>\n",
       "      <td>Isaac</td>\n",
       "      <td>87</td>\n",
       "      <td>80</td>\n",
       "      <td>76</td>\n",
       "    </tr>\n",
       "    <tr>\n",
       "      <th>9</th>\n",
       "      <td>10</td>\n",
       "      <td>Jack</td>\n",
       "      <td>79</td>\n",
       "      <td>85</td>\n",
       "      <td>79</td>\n",
       "    </tr>\n",
       "  </tbody>\n",
       "</table>\n",
       "</div>"
      ],
      "text/plain": [
       "   Student_ID     Name  Math_Score  English_Score  History_Score\n",
       "0           1    Alice          82             85             90\n",
       "1           2      Bob          95             89             87\n",
       "2           3  Charlie          88             78             82\n",
       "3           4    David          65             70             68\n",
       "4           5      Eve          78             92             95\n",
       "5           6    Frank          90             75             78\n",
       "6           7    Grace          55             88             88\n",
       "7           8   Hannah          92             95             85\n",
       "8           9    Isaac          87             80             76\n",
       "9          10     Jack          79             85             79"
      ]
     },
     "execution_count": 5,
     "metadata": {},
     "output_type": "execute_result"
    }
   ],
   "source": [
    "students_df"
   ]
  },
  {
   "cell_type": "code",
   "execution_count": 22,
   "metadata": {},
   "outputs": [
    {
     "name": "stdout",
     "output_type": "stream",
     "text": [
      "The students who have scored above the average in all subjects are ['Alice', 'Bob', 'Hannah']\n",
      "\n",
      "'English' is the subject in which the highest aggregate score was achieved accross all students\n"
     ]
    }
   ],
   "source": [
    "#The students who have scored above the average in all subjects.\n",
    "students_above_avg_all=students_df.loc[((students_df['Math_Score']>students_df['Math_Score'].mean()) & (students_df['English_Score']>students_df['English_Score'].mean()) & (students_df['History_Score']>students_df['History_Score'].mean())),'Name'].to_list()\n",
    "\n",
    "#The subject in which the highest aggregate score achieved accross all students.\n",
    "sub_high_agg_score=students_df[['Math_Score', 'English_Score', 'History_Score']].sum().idxmax().split('_')[0]\n",
    "\n",
    "print(f\"The students who have scored above the average in all subjects are {students_above_avg_all}\")\n",
    "print(f\"\\n'{sub_high_agg_score}' is the subject in which the highest aggregate score was achieved accross all students\")"
   ]
  },
  {
   "cell_type": "markdown",
   "metadata": {},
   "source": [
    "**2. Sales Rep Performance Metrics**\n",
    "\n",
    "**Sample DataFrame**:\n",
    "```python\n",
    "sales_rep_df = pd.DataFrame({\n",
    "    'Sales_Rep_ID': list(range(1, 6)),\n",
    "    'Name': ['Olivia', 'Ethan', 'Sophia', 'James', 'Emily'],\n",
    "    'Total_Sales': [15000, 16500, 14200, 15800, 14800],\n",
    "    'Total_Clients': [12, 15, 10, 14, 13],\n",
    "    'Region': ['North', 'South', 'East', 'West', 'North']\n",
    "})\n",
    "```\n",
    "\n",
    "**Given Query**: \n",
    "\"Find out which 'Region' has the highest average sales per representative. Additionally, identify the sales representative with the highest sales-to-client ratio.\""
   ]
  },
  {
   "cell_type": "code",
   "execution_count": 24,
   "metadata": {},
   "outputs": [],
   "source": [
    "sales_rep_df = pd.DataFrame({\n",
    "    'Sales_Rep_ID': list(range(1, 6)),\n",
    "    'Name': ['Olivia', 'Ethan', 'Sophia', 'James', 'Emily'],\n",
    "    'Total_Sales': [15000, 16500, 14200, 15800, 14800],\n",
    "    'Total_Clients': [12, 15, 10, 14, 13],\n",
    "    'Region': ['North', 'South', 'East', 'West', 'North']\n",
    "})"
   ]
  },
  {
   "cell_type": "code",
   "execution_count": 30,
   "metadata": {},
   "outputs": [
    {
     "data": {
      "text/html": [
       "<div>\n",
       "<style scoped>\n",
       "    .dataframe tbody tr th:only-of-type {\n",
       "        vertical-align: middle;\n",
       "    }\n",
       "\n",
       "    .dataframe tbody tr th {\n",
       "        vertical-align: top;\n",
       "    }\n",
       "\n",
       "    .dataframe thead th {\n",
       "        text-align: right;\n",
       "    }\n",
       "</style>\n",
       "<table border=\"1\" class=\"dataframe\">\n",
       "  <thead>\n",
       "    <tr style=\"text-align: right;\">\n",
       "      <th></th>\n",
       "      <th>Sales_Rep_ID</th>\n",
       "      <th>Name</th>\n",
       "      <th>Total_Sales</th>\n",
       "      <th>Total_Clients</th>\n",
       "      <th>Region</th>\n",
       "    </tr>\n",
       "  </thead>\n",
       "  <tbody>\n",
       "    <tr>\n",
       "      <th>0</th>\n",
       "      <td>1</td>\n",
       "      <td>Olivia</td>\n",
       "      <td>15000</td>\n",
       "      <td>12</td>\n",
       "      <td>North</td>\n",
       "    </tr>\n",
       "    <tr>\n",
       "      <th>1</th>\n",
       "      <td>2</td>\n",
       "      <td>Ethan</td>\n",
       "      <td>16500</td>\n",
       "      <td>15</td>\n",
       "      <td>South</td>\n",
       "    </tr>\n",
       "    <tr>\n",
       "      <th>2</th>\n",
       "      <td>3</td>\n",
       "      <td>Sophia</td>\n",
       "      <td>14200</td>\n",
       "      <td>10</td>\n",
       "      <td>East</td>\n",
       "    </tr>\n",
       "    <tr>\n",
       "      <th>3</th>\n",
       "      <td>4</td>\n",
       "      <td>James</td>\n",
       "      <td>15800</td>\n",
       "      <td>14</td>\n",
       "      <td>West</td>\n",
       "    </tr>\n",
       "    <tr>\n",
       "      <th>4</th>\n",
       "      <td>5</td>\n",
       "      <td>Emily</td>\n",
       "      <td>14800</td>\n",
       "      <td>13</td>\n",
       "      <td>North</td>\n",
       "    </tr>\n",
       "  </tbody>\n",
       "</table>\n",
       "</div>"
      ],
      "text/plain": [
       "   Sales_Rep_ID    Name  Total_Sales  Total_Clients Region\n",
       "0             1  Olivia        15000             12  North\n",
       "1             2   Ethan        16500             15  South\n",
       "2             3  Sophia        14200             10   East\n",
       "3             4   James        15800             14   West\n",
       "4             5   Emily        14800             13  North"
      ]
     },
     "execution_count": 30,
     "metadata": {},
     "output_type": "execute_result"
    }
   ],
   "source": [
    "sales_rep_df"
   ]
  },
  {
   "cell_type": "code",
   "execution_count": 41,
   "metadata": {},
   "outputs": [
    {
     "name": "stdout",
     "output_type": "stream",
     "text": [
      "'South' is the region with the highest average sales per representative.\n",
      "\n",
      "'Sophia' is the sales representative with the highest sales-to-client ratio.\n"
     ]
    }
   ],
   "source": [
    "#'Region' with the highest average sales per representative.\n",
    "reg_high_avg_sales=sales_rep_df.groupby('Region')['Total_Sales'].mean().idxmax()\n",
    "\n",
    "#The sales representative with the highest sales-to-client ratio.\n",
    "rep_with_high_sales_to_client=sales_rep_df.loc[np.round(sales_rep_df['Total_Sales']/sales_rep_df['Total_Clients'],2).idxmax(),'Name']\n",
    "\n",
    "print(f\"'{reg_high_avg_sales}' is the region with the highest average sales per representative.\")\n",
    "print(f\"\\n'{rep_with_high_sales_to_client}' is the sales representative with the highest sales-to-client ratio.\")"
   ]
  }
 ],
 "metadata": {
  "kernelspec": {
   "display_name": "Python 3",
   "language": "python",
   "name": "python3"
  },
  "language_info": {
   "codemirror_mode": {
    "name": "ipython",
    "version": 3
   },
   "file_extension": ".py",
   "mimetype": "text/x-python",
   "name": "python",
   "nbconvert_exporter": "python",
   "pygments_lexer": "ipython3",
   "version": "3.12.3"
  }
 },
 "nbformat": 4,
 "nbformat_minor": 2
}
